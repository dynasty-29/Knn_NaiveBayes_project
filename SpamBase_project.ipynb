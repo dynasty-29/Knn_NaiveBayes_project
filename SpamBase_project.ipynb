{
  "nbformat": 4,
  "nbformat_minor": 0,
  "metadata": {
    "colab": {
      "name": "SpamBase_project.ipynb",
      "provenance": [],
      "authorship_tag": "ABX9TyOONsxrFYzU3+NmbymC83aO",
      "include_colab_link": true
    },
    "kernelspec": {
      "name": "python3",
      "display_name": "Python 3"
    },
    "language_info": {
      "name": "python"
    }
  },
  "cells": [
    {
      "cell_type": "markdown",
      "metadata": {
        "id": "view-in-github",
        "colab_type": "text"
      },
      "source": [
        "<a href=\"https://colab.research.google.com/github/dynasty-29/Knn_NaiveBayes_project/blob/main/SpamBase_project.ipynb\" target=\"_parent\"><img src=\"https://colab.research.google.com/assets/colab-badge.svg\" alt=\"Open In Colab\"/></a>"
      ]
    },
    {
      "cell_type": "code",
      "execution_count": null,
      "metadata": {
        "id": "MS6LJtDeu77H"
      },
      "outputs": [],
      "source": [
        ""
      ]
    }
  ]
}